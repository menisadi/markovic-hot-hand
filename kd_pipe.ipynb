{
  "cells": [
    {
      "cell_type": "code",
      "execution_count": 1,
      "metadata": {
        "id": "XLofbaD8nfwg",
        "colab": {
          "base_uri": "https://localhost:8080/",
          "height": 1000
        },
        "outputId": "e2812602-808b-43ff-a795-7d3502dd677e"
      },
      "outputs": [
        {
          "output_type": "stream",
          "name": "stdout",
          "text": [
            "Looking in indexes: https://pypi.org/simple, https://us-python.pkg.dev/colab-wheels/public/simple/\n",
            "Collecting basketball-reference-scraper\n",
            "  Downloading basketball_reference_scraper-1.0.31-py3-none-any.whl (50 kB)\n",
            "\u001b[K     |████████████████████████████████| 50 kB 2.9 MB/s \n",
            "\u001b[?25hCollecting python-dateutil==2.8.1\n",
            "  Downloading python_dateutil-2.8.1-py2.py3-none-any.whl (227 kB)\n",
            "\u001b[K     |████████████████████████████████| 227 kB 9.5 MB/s \n",
            "\u001b[?25hCollecting pandas==1.3.1\n",
            "  Downloading pandas-1.3.1-cp38-cp38-manylinux_2_17_x86_64.manylinux2014_x86_64.whl (11.7 MB)\n",
            "\u001b[K     |████████████████████████████████| 11.7 MB 69.9 MB/s \n",
            "\u001b[?25hCollecting six==1.13.0\n",
            "  Downloading six-1.13.0-py2.py3-none-any.whl (10 kB)\n",
            "Collecting numpy==1.21.0\n",
            "  Downloading numpy-1.21.0-cp38-cp38-manylinux_2_12_x86_64.manylinux2010_x86_64.whl (15.7 MB)\n",
            "\u001b[K     |████████████████████████████████| 15.7 MB 45.1 MB/s \n",
            "\u001b[?25hCollecting soupsieve==1.9.5\n",
            "  Downloading soupsieve-1.9.5-py2.py3-none-any.whl (33 kB)\n",
            "Collecting requests==2.27.1\n",
            "  Downloading requests-2.27.1-py2.py3-none-any.whl (63 kB)\n",
            "\u001b[K     |████████████████████████████████| 63 kB 1.5 MB/s \n",
            "\u001b[?25hRequirement already satisfied: bs4==0.0.1 in /usr/local/lib/python3.8/dist-packages (from basketball-reference-scraper) (0.0.1)\n",
            "Collecting pytz==2019.3\n",
            "  Downloading pytz-2019.3-py2.py3-none-any.whl (509 kB)\n",
            "\u001b[K     |████████████████████████████████| 509 kB 44.1 MB/s \n",
            "\u001b[?25hCollecting lxml==4.6.5\n",
            "  Downloading lxml-4.6.5-cp38-cp38-manylinux_2_17_x86_64.manylinux2014_x86_64.manylinux_2_24_x86_64.whl (6.9 MB)\n",
            "\u001b[K     |████████████████████████████████| 6.9 MB 30.2 MB/s \n",
            "\u001b[?25hCollecting unidecode==1.2.0\n",
            "  Downloading Unidecode-1.2.0-py2.py3-none-any.whl (241 kB)\n",
            "\u001b[K     |████████████████████████████████| 241 kB 55.8 MB/s \n",
            "\u001b[?25hCollecting beautifulsoup4==4.8.2\n",
            "  Downloading beautifulsoup4-4.8.2-py3-none-any.whl (106 kB)\n",
            "\u001b[K     |████████████████████████████████| 106 kB 29.7 MB/s \n",
            "\u001b[?25hCollecting charset-normalizer~=2.0.0\n",
            "  Downloading charset_normalizer-2.0.12-py3-none-any.whl (39 kB)\n",
            "Requirement already satisfied: certifi>=2017.4.17 in /usr/local/lib/python3.8/dist-packages (from requests==2.27.1->basketball-reference-scraper) (2022.12.7)\n",
            "Requirement already satisfied: idna<4,>=2.5 in /usr/local/lib/python3.8/dist-packages (from requests==2.27.1->basketball-reference-scraper) (2.10)\n",
            "Requirement already satisfied: urllib3<1.27,>=1.21.1 in /usr/local/lib/python3.8/dist-packages (from requests==2.27.1->basketball-reference-scraper) (1.24.3)\n",
            "Installing collected packages: soupsieve, six, pytz, python-dateutil, numpy, charset-normalizer, beautifulsoup4, unidecode, requests, pandas, lxml, basketball-reference-scraper\n",
            "  Attempting uninstall: six\n",
            "    Found existing installation: six 1.15.0\n",
            "    Uninstalling six-1.15.0:\n",
            "      Successfully uninstalled six-1.15.0\n",
            "  Attempting uninstall: pytz\n",
            "    Found existing installation: pytz 2022.6\n",
            "    Uninstalling pytz-2022.6:\n",
            "      Successfully uninstalled pytz-2022.6\n",
            "  Attempting uninstall: python-dateutil\n",
            "    Found existing installation: python-dateutil 2.8.2\n",
            "    Uninstalling python-dateutil-2.8.2:\n",
            "      Successfully uninstalled python-dateutil-2.8.2\n",
            "  Attempting uninstall: numpy\n",
            "    Found existing installation: numpy 1.21.6\n",
            "    Uninstalling numpy-1.21.6:\n",
            "      Successfully uninstalled numpy-1.21.6\n",
            "  Attempting uninstall: charset-normalizer\n",
            "    Found existing installation: charset-normalizer 2.1.1\n",
            "    Uninstalling charset-normalizer-2.1.1:\n",
            "      Successfully uninstalled charset-normalizer-2.1.1\n",
            "  Attempting uninstall: beautifulsoup4\n",
            "    Found existing installation: beautifulsoup4 4.6.3\n",
            "    Uninstalling beautifulsoup4-4.6.3:\n",
            "      Successfully uninstalled beautifulsoup4-4.6.3\n",
            "  Attempting uninstall: requests\n",
            "    Found existing installation: requests 2.23.0\n",
            "    Uninstalling requests-2.23.0:\n",
            "      Successfully uninstalled requests-2.23.0\n",
            "  Attempting uninstall: pandas\n",
            "    Found existing installation: pandas 1.3.5\n",
            "    Uninstalling pandas-1.3.5:\n",
            "      Successfully uninstalled pandas-1.3.5\n",
            "  Attempting uninstall: lxml\n",
            "    Found existing installation: lxml 4.9.2\n",
            "    Uninstalling lxml-4.9.2:\n",
            "      Successfully uninstalled lxml-4.9.2\n",
            "\u001b[31mERROR: pip's dependency resolver does not currently take into account all the packages that are installed. This behaviour is the source of the following dependency conflicts.\n",
            "ipython 7.9.0 requires jedi>=0.10, which is not installed.\u001b[0m\n",
            "Successfully installed basketball-reference-scraper-1.0.31 beautifulsoup4-4.8.2 charset-normalizer-2.0.12 lxml-4.6.5 numpy-1.21.0 pandas-1.3.1 python-dateutil-2.8.1 pytz-2019.3 requests-2.27.1 six-1.13.0 soupsieve-1.9.5 unidecode-1.2.0\n"
          ]
        },
        {
          "output_type": "display_data",
          "data": {
            "application/vnd.colab-display-data+json": {
              "pip_warning": {
                "packages": [
                  "dateutil",
                  "numpy",
                  "six"
                ]
              }
            }
          },
          "metadata": {}
        }
      ],
      "source": [
        "pip install basketball-reference-scraper"
      ]
    },
    {
      "cell_type": "code",
      "execution_count": 2,
      "metadata": {
        "id": "v8UxTAMup70t"
      },
      "outputs": [],
      "source": [
        "from basketball_reference_scraper.shot_charts import get_shot_chart\n",
        "from basketball_reference_scraper.seasons import get_schedule\n",
        "import pandas as pd\n",
        "import time"
      ]
    },
    {
      "cell_type": "code",
      "source": [
        "def schedule(team, years):\n",
        "  print(f'Team: {team}')\n",
        "  full_schedule = pd.DataFrame()\n",
        "  for i in years:\n",
        "    schedule_i = get_schedule(i, playoffs=False)\n",
        "    home = schedule_i.loc[schedule_i['HOME'] == team]\n",
        "    away = schedule_i.loc[schedule_i['VISITOR'] == team]\n",
        "    frames = [home, away]\n",
        "    year_team = pd.concat(frames)\n",
        "    print(f'year - {i}')\n",
        "    time.sleep(10)\n",
        "    frames = [full_schedule, year_team]\n",
        "    full_schedule = pd.concat(frames)\n",
        "  return full_schedule.sort_values(by=['DATE']).reset_index()"
      ],
      "metadata": {
        "id": "zCZBlRFr3ESd"
      },
      "execution_count": 3,
      "outputs": []
    },
    {
      "cell_type": "code",
      "source": [
        "def empty_game_df():\n",
        "  empty_df = pd.DataFrame(columns=['x', 'y', 'QUARTER', 'TIME_REMAINING', 'PLAYER', 'MAKE_MISS', 'VALUE', 'DISTANCE', 'team'])\n",
        "  return empty_df"
      ],
      "metadata": {
        "id": "ikb_BxOVKAsJ"
      },
      "execution_count": 4,
      "outputs": []
    },
    {
      "cell_type": "code",
      "source": [
        "def get_shots(game_df, empty_df, team):\n",
        "  home = list(game_df['HOME'])\n",
        "  away = list(game_df['VISITOR'])\n",
        "  # dates = [date.strftime('%Y-%m-%d') for date in list(game_df['DATE'])]\n",
        "  dates = game_df['DATE']\n",
        "  for i in range(len(dates)):\n",
        "    print('-' * 50)\n",
        "    print(dates[i])\n",
        "    print(f'{home[i]} vs. {away[i]}')\n",
        "    temp_dic = get_shot_chart(dates[i], home[i], away[i])\n",
        "    print('got game')\n",
        "    brk_df = temp_dic[team]\n",
        "    frames = [empty_df, brk_df]\n",
        "    empty_df =pd.concat(frames)\n",
        "    time.sleep(10)\n",
        "  return empty_df\n",
        "    "
      ],
      "metadata": {
        "id": "lRoRgQzAKKZU"
      },
      "execution_count": 5,
      "outputs": []
    },
    {
      "cell_type": "code",
      "source": [
        "def get_player_shots(player, shots_df):\n",
        "  return shots_df.loc[shots_df['PLAYER'] == player]"
      ],
      "metadata": {
        "id": "VVpCqJrEK4bk"
      },
      "execution_count": 6,
      "outputs": []
    },
    {
      "cell_type": "code",
      "source": [
        "def get_player_csv(team, years, player):\n",
        "  '''\n",
        "  inputs: \n",
        "  1. team - full name of NBA team (str)\n",
        "  2. years - list of years (list)\n",
        "  3. player - full name of a player (str)\n",
        "\n",
        "  output:\n",
        "  1. player_shots - csv containing the player shots over the years in the list\n",
        "                    while he was in the team \n",
        "  '''\n",
        "  print('Start Scrapping Schedule...')\n",
        "  schedule_df = schedule(team, years) # get team games\n",
        "  empty_df = empty_game_df() # build empty shots df\n",
        "  print('Start Scarpping Shots...')\n",
        "  shots_df = get_shots(schedule_df, empty_df, team_dict[team.upper()]) # get full shots of team\n",
        "  print('Seperate Player...')\n",
        "  player_shots = get_player_shots(player, shots_df) # seperate the df to get player shots\n",
        "  return player_shots "
      ],
      "metadata": {
        "id": "ENHsAB7J4IxI"
      },
      "execution_count": 7,
      "outputs": []
    },
    {
      "cell_type": "code",
      "source": [
        "team_dict = {'ATLANTA HAWKS': 'ATL', 'BOSTON CELTICS': 'BOS', 'BROOKLYN NETS': 'BRK', 'CHICAGO BULLS': 'CHI', 'CHARLOTTE HORNETS': 'CHO', 'CLEVELAND CAVALIERS': 'CLE',\n",
        "             'DALLAS MAVERICKS': 'DAL', 'DENVER NUGGETS': 'DEN', 'DETROIT PISTONS': 'DET', 'GOLDEN STATE WARRIORS': 'GSW', 'HOUSTON ROCKETS': 'HOU',\n",
        "             'INDIANA PACERS': 'IND', 'LOS ANGELES CLIPPERS': 'LAC', 'LOS ANGELES LAKERS': 'LAL', 'MEMPHIS GRIZZLIES': 'MEM', 'MIAMI HEAT': 'MIA', \n",
        "             'MILWAUKEE BUCKS': 'MIL', 'MINNESOTA TIMBERWOLVES': 'MIN', 'NEW ORLEANS PELICANS': 'NOP', 'NEW YORK KNICKS': 'NYK', 'OKLAHOMA CITY THUNDER': 'OKC',\n",
        "             'ORLANDO MAGIC': 'ORL', 'PHILADELPHIA 76ERS': 'PHI', 'PHOENIX SUNS': 'PHO', 'PORTLAND TRAIL BLAZERS': 'POR', 'SACRAMENTO KINGS': 'SAC',\n",
        "             'SAN ANTONIO SPURS': 'SAS', 'TORONTO RAPTORS': 'TOR', 'UTAH JAZZ': 'UTA', 'WASHINGTON WIZARDS': 'WAS'}"
      ],
      "metadata": {
        "id": "oOimWRqGYVDi"
      },
      "execution_count": 8,
      "outputs": []
    },
    {
      "cell_type": "code",
      "source": [
        "schedule_df = schedule('Brooklyn Nets', [2020,2021,2022])\n",
        "schedule_df"
      ],
      "metadata": {
        "colab": {
          "base_uri": "https://localhost:8080/",
          "height": 493
        },
        "id": "ZNdXx_8XRd-O",
        "outputId": "dd190f0a-56ba-4b43-e0b0-e87537b7d3a6"
      },
      "execution_count": 9,
      "outputs": [
        {
          "output_type": "stream",
          "name": "stdout",
          "text": [
            "Team: Brooklyn Nets\n",
            "year - 2020\n",
            "year - 2021\n",
            "year - 2022\n"
          ]
        },
        {
          "output_type": "execute_result",
          "data": {
            "text/plain": [
              "     index       DATE                 VISITOR  VISITOR_PTS               HOME  \\\n",
              "0        8 2019-10-23  Minnesota Timberwolves          127      Brooklyn Nets   \n",
              "1       20 2019-10-25         New York Knicks          109      Brooklyn Nets   \n",
              "2       38 2019-10-27           Brooklyn Nets          133  Memphis Grizzlies   \n",
              "3       60 2019-10-30          Indiana Pacers          118      Brooklyn Nets   \n",
              "4       75 2019-11-01         Houston Rockets          116      Brooklyn Nets   \n",
              "..     ...        ...                     ...          ...                ...   \n",
              "238   1230 2022-04-12     Cleveland Cavaliers          108      Brooklyn Nets   \n",
              "239   1241 2022-04-17           Brooklyn Nets          114     Boston Celtics   \n",
              "240   1250 2022-04-20           Brooklyn Nets          107     Boston Celtics   \n",
              "241   1261 2022-04-23          Boston Celtics          109      Brooklyn Nets   \n",
              "242   1267 2022-04-25          Boston Celtics          116      Brooklyn Nets   \n",
              "\n",
              "     HOME_PTS  \n",
              "0         126  \n",
              "1         113  \n",
              "2         134  \n",
              "3         108  \n",
              "4         123  \n",
              "..        ...  \n",
              "238       115  \n",
              "239       115  \n",
              "240       114  \n",
              "241       103  \n",
              "242       112  \n",
              "\n",
              "[243 rows x 6 columns]"
            ],
            "text/html": [
              "\n",
              "  <div id=\"df-0c2d2c96-590a-4357-97bf-c3f7b1af6f86\">\n",
              "    <div class=\"colab-df-container\">\n",
              "      <div>\n",
              "<style scoped>\n",
              "    .dataframe tbody tr th:only-of-type {\n",
              "        vertical-align: middle;\n",
              "    }\n",
              "\n",
              "    .dataframe tbody tr th {\n",
              "        vertical-align: top;\n",
              "    }\n",
              "\n",
              "    .dataframe thead th {\n",
              "        text-align: right;\n",
              "    }\n",
              "</style>\n",
              "<table border=\"1\" class=\"dataframe\">\n",
              "  <thead>\n",
              "    <tr style=\"text-align: right;\">\n",
              "      <th></th>\n",
              "      <th>index</th>\n",
              "      <th>DATE</th>\n",
              "      <th>VISITOR</th>\n",
              "      <th>VISITOR_PTS</th>\n",
              "      <th>HOME</th>\n",
              "      <th>HOME_PTS</th>\n",
              "    </tr>\n",
              "  </thead>\n",
              "  <tbody>\n",
              "    <tr>\n",
              "      <th>0</th>\n",
              "      <td>8</td>\n",
              "      <td>2019-10-23</td>\n",
              "      <td>Minnesota Timberwolves</td>\n",
              "      <td>127</td>\n",
              "      <td>Brooklyn Nets</td>\n",
              "      <td>126</td>\n",
              "    </tr>\n",
              "    <tr>\n",
              "      <th>1</th>\n",
              "      <td>20</td>\n",
              "      <td>2019-10-25</td>\n",
              "      <td>New York Knicks</td>\n",
              "      <td>109</td>\n",
              "      <td>Brooklyn Nets</td>\n",
              "      <td>113</td>\n",
              "    </tr>\n",
              "    <tr>\n",
              "      <th>2</th>\n",
              "      <td>38</td>\n",
              "      <td>2019-10-27</td>\n",
              "      <td>Brooklyn Nets</td>\n",
              "      <td>133</td>\n",
              "      <td>Memphis Grizzlies</td>\n",
              "      <td>134</td>\n",
              "    </tr>\n",
              "    <tr>\n",
              "      <th>3</th>\n",
              "      <td>60</td>\n",
              "      <td>2019-10-30</td>\n",
              "      <td>Indiana Pacers</td>\n",
              "      <td>118</td>\n",
              "      <td>Brooklyn Nets</td>\n",
              "      <td>108</td>\n",
              "    </tr>\n",
              "    <tr>\n",
              "      <th>4</th>\n",
              "      <td>75</td>\n",
              "      <td>2019-11-01</td>\n",
              "      <td>Houston Rockets</td>\n",
              "      <td>116</td>\n",
              "      <td>Brooklyn Nets</td>\n",
              "      <td>123</td>\n",
              "    </tr>\n",
              "    <tr>\n",
              "      <th>...</th>\n",
              "      <td>...</td>\n",
              "      <td>...</td>\n",
              "      <td>...</td>\n",
              "      <td>...</td>\n",
              "      <td>...</td>\n",
              "      <td>...</td>\n",
              "    </tr>\n",
              "    <tr>\n",
              "      <th>238</th>\n",
              "      <td>1230</td>\n",
              "      <td>2022-04-12</td>\n",
              "      <td>Cleveland Cavaliers</td>\n",
              "      <td>108</td>\n",
              "      <td>Brooklyn Nets</td>\n",
              "      <td>115</td>\n",
              "    </tr>\n",
              "    <tr>\n",
              "      <th>239</th>\n",
              "      <td>1241</td>\n",
              "      <td>2022-04-17</td>\n",
              "      <td>Brooklyn Nets</td>\n",
              "      <td>114</td>\n",
              "      <td>Boston Celtics</td>\n",
              "      <td>115</td>\n",
              "    </tr>\n",
              "    <tr>\n",
              "      <th>240</th>\n",
              "      <td>1250</td>\n",
              "      <td>2022-04-20</td>\n",
              "      <td>Brooklyn Nets</td>\n",
              "      <td>107</td>\n",
              "      <td>Boston Celtics</td>\n",
              "      <td>114</td>\n",
              "    </tr>\n",
              "    <tr>\n",
              "      <th>241</th>\n",
              "      <td>1261</td>\n",
              "      <td>2022-04-23</td>\n",
              "      <td>Boston Celtics</td>\n",
              "      <td>109</td>\n",
              "      <td>Brooklyn Nets</td>\n",
              "      <td>103</td>\n",
              "    </tr>\n",
              "    <tr>\n",
              "      <th>242</th>\n",
              "      <td>1267</td>\n",
              "      <td>2022-04-25</td>\n",
              "      <td>Boston Celtics</td>\n",
              "      <td>116</td>\n",
              "      <td>Brooklyn Nets</td>\n",
              "      <td>112</td>\n",
              "    </tr>\n",
              "  </tbody>\n",
              "</table>\n",
              "<p>243 rows × 6 columns</p>\n",
              "</div>\n",
              "      <button class=\"colab-df-convert\" onclick=\"convertToInteractive('df-0c2d2c96-590a-4357-97bf-c3f7b1af6f86')\"\n",
              "              title=\"Convert this dataframe to an interactive table.\"\n",
              "              style=\"display:none;\">\n",
              "        \n",
              "  <svg xmlns=\"http://www.w3.org/2000/svg\" height=\"24px\"viewBox=\"0 0 24 24\"\n",
              "       width=\"24px\">\n",
              "    <path d=\"M0 0h24v24H0V0z\" fill=\"none\"/>\n",
              "    <path d=\"M18.56 5.44l.94 2.06.94-2.06 2.06-.94-2.06-.94-.94-2.06-.94 2.06-2.06.94zm-11 1L8.5 8.5l.94-2.06 2.06-.94-2.06-.94L8.5 2.5l-.94 2.06-2.06.94zm10 10l.94 2.06.94-2.06 2.06-.94-2.06-.94-.94-2.06-.94 2.06-2.06.94z\"/><path d=\"M17.41 7.96l-1.37-1.37c-.4-.4-.92-.59-1.43-.59-.52 0-1.04.2-1.43.59L10.3 9.45l-7.72 7.72c-.78.78-.78 2.05 0 2.83L4 21.41c.39.39.9.59 1.41.59.51 0 1.02-.2 1.41-.59l7.78-7.78 2.81-2.81c.8-.78.8-2.07 0-2.86zM5.41 20L4 18.59l7.72-7.72 1.47 1.35L5.41 20z\"/>\n",
              "  </svg>\n",
              "      </button>\n",
              "      \n",
              "  <style>\n",
              "    .colab-df-container {\n",
              "      display:flex;\n",
              "      flex-wrap:wrap;\n",
              "      gap: 12px;\n",
              "    }\n",
              "\n",
              "    .colab-df-convert {\n",
              "      background-color: #E8F0FE;\n",
              "      border: none;\n",
              "      border-radius: 50%;\n",
              "      cursor: pointer;\n",
              "      display: none;\n",
              "      fill: #1967D2;\n",
              "      height: 32px;\n",
              "      padding: 0 0 0 0;\n",
              "      width: 32px;\n",
              "    }\n",
              "\n",
              "    .colab-df-convert:hover {\n",
              "      background-color: #E2EBFA;\n",
              "      box-shadow: 0px 1px 2px rgba(60, 64, 67, 0.3), 0px 1px 3px 1px rgba(60, 64, 67, 0.15);\n",
              "      fill: #174EA6;\n",
              "    }\n",
              "\n",
              "    [theme=dark] .colab-df-convert {\n",
              "      background-color: #3B4455;\n",
              "      fill: #D2E3FC;\n",
              "    }\n",
              "\n",
              "    [theme=dark] .colab-df-convert:hover {\n",
              "      background-color: #434B5C;\n",
              "      box-shadow: 0px 1px 3px 1px rgba(0, 0, 0, 0.15);\n",
              "      filter: drop-shadow(0px 1px 2px rgba(0, 0, 0, 0.3));\n",
              "      fill: #FFFFFF;\n",
              "    }\n",
              "  </style>\n",
              "\n",
              "      <script>\n",
              "        const buttonEl =\n",
              "          document.querySelector('#df-0c2d2c96-590a-4357-97bf-c3f7b1af6f86 button.colab-df-convert');\n",
              "        buttonEl.style.display =\n",
              "          google.colab.kernel.accessAllowed ? 'block' : 'none';\n",
              "\n",
              "        async function convertToInteractive(key) {\n",
              "          const element = document.querySelector('#df-0c2d2c96-590a-4357-97bf-c3f7b1af6f86');\n",
              "          const dataTable =\n",
              "            await google.colab.kernel.invokeFunction('convertToInteractive',\n",
              "                                                     [key], {});\n",
              "          if (!dataTable) return;\n",
              "\n",
              "          const docLinkHtml = 'Like what you see? Visit the ' +\n",
              "            '<a target=\"_blank\" href=https://colab.research.google.com/notebooks/data_table.ipynb>data table notebook</a>'\n",
              "            + ' to learn more about interactive tables.';\n",
              "          element.innerHTML = '';\n",
              "          dataTable['output_type'] = 'display_data';\n",
              "          await google.colab.output.renderOutput(dataTable, element);\n",
              "          const docLink = document.createElement('div');\n",
              "          docLink.innerHTML = docLinkHtml;\n",
              "          element.appendChild(docLink);\n",
              "        }\n",
              "      </script>\n",
              "    </div>\n",
              "  </div>\n",
              "  "
            ]
          },
          "metadata": {},
          "execution_count": 9
        }
      ]
    },
    {
      "cell_type": "code",
      "source": [
        "kd_csv = get_player_csv('Brooklyn Nets', [2020,2021,2022], 'Kevin Durant')\n",
        "kd_csv.head()"
      ],
      "metadata": {
        "id": "hzlxJPpBMJZI"
      },
      "execution_count": null,
      "outputs": []
    },
    {
      "cell_type": "code",
      "source": [
        "kd_csv.to_csv('kd_csv.csv', index=False)"
      ],
      "metadata": {
        "id": "Qql34dAFa92e"
      },
      "execution_count": 9,
      "outputs": []
    }
  ],
  "metadata": {
    "colab": {
      "provenance": []
    },
    "kernelspec": {
      "display_name": "Python 3",
      "name": "python3"
    },
    "language_info": {
      "name": "python"
    }
  },
  "nbformat": 4,
  "nbformat_minor": 0
}